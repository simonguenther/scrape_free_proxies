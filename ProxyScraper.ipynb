{
 "cells": [
  {
   "cell_type": "code",
   "execution_count": 84,
   "metadata": {},
   "outputs": [
    {
     "name": "stdout",
     "output_type": "stream",
     "text": [
      "[{'http': '139.59.169.246:8080'},\n",
      " {'http': '138.68.161.60:8080'},\n",
      " {'http': '138.68.161.14:3128'},\n",
      " {'http': '138.68.173.29:8080'},\n",
      " {'http': '138.68.165.154:3128'},\n",
      " {'https': '54.37.18.25:8080'},\n",
      " {'http': '5.252.161.48:8080'},\n",
      " {'https': '134.209.179.96:3128'},\n",
      " {'http': '154.16.63.16:8080'},\n",
      " {'http': '185.134.23.172:80'},\n",
      " {'http': '185.122.58.80:80'},\n",
      " {'http': '185.134.23.173:80'},\n",
      " {'http': '185.186.77.244:80'},\n",
      " {'http': '185.134.23.171:80'}]\n"
     ]
    },
    {
     "data": {
      "text/plain": [
       "[{'http': '139.59.169.246:8080'},\n",
       " {'http': '138.68.161.60:8080'},\n",
       " {'http': '138.68.161.14:3128'},\n",
       " {'http': '138.68.173.29:8080'},\n",
       " {'http': '138.68.165.154:3128'},\n",
       " {'https': '54.37.18.25:8080'},\n",
       " {'http': '5.252.161.48:8080'},\n",
       " {'https': '134.209.179.96:3128'},\n",
       " {'http': '154.16.63.16:8080'},\n",
       " {'http': '185.134.23.172:80'},\n",
       " {'http': '185.122.58.80:80'},\n",
       " {'http': '185.134.23.173:80'},\n",
       " {'http': '185.186.77.244:80'},\n",
       " {'http': '185.134.23.171:80'}]"
      ]
     },
     "execution_count": 84,
     "metadata": {},
     "output_type": "execute_result"
    }
   ],
   "source": [
    "import requests\n",
    "import requests\n",
    "import urllib\n",
    "import pprint\n",
    "import re\n",
    "from bs4 import BeautifulSoup\n",
    "\n",
    "class getFreeProxies():\n",
    "    def __init__(self, url= \"https://free-proxy-list.net/uk-proxy.html\"):\n",
    "        self.FREE_PROXIES = url\n",
    "        self.raw = get_raw_from_url(FREE_PROXIES)\n",
    "        self.proxies = get_useful_proxies(raw)\n",
    "        pprint.pprint(proxies)\n",
    "    \n",
    "\n",
    "    def get_raw_from_url(self, url):\n",
    "        return requests.get(url).text\n",
    "\n",
    "    def scrape_website(self, code):\n",
    "        soup = BeautifulSoup(code, 'html.parser')\n",
    "        proxy_entry = soup.find_all(\"tr\")#, {\"class\":\"odd\"})\n",
    "        _proxies = []\n",
    "        for row in proxy_entry:\n",
    "            single = row.find_all(\"td\")\n",
    "            if(len(single) == 8):\n",
    "\n",
    "                if(single[4].text == \"anonymous\"):\n",
    "                    # return format: dictionary\n",
    "                    # 'http(s):'ip:port''\n",
    "                    # to use it as proxies dict \n",
    "                    # with request later on\n",
    "                    key = 'https' if (single[6].text == \"yes\") else 'http'\n",
    "                    value = single[0].text.strip()+\":\"+single[1].text.strip()\n",
    "                    _proxies.append({key:value})\n",
    "        return _proxies\n",
    "    \n",
    "    def get_proxies(self):\n",
    "        return self.proxies\n",
    "\n",
    "a = getFreeProxies()\n",
    "a.get_proxies()\n"
   ]
  },
  {
   "cell_type": "code",
   "execution_count": null,
   "metadata": {},
   "outputs": [],
   "source": []
  }
 ],
 "metadata": {
  "kernelspec": {
   "display_name": "Python 3",
   "language": "python",
   "name": "python3"
  },
  "language_info": {
   "codemirror_mode": {
    "name": "ipython",
    "version": 3
   },
   "file_extension": ".py",
   "mimetype": "text/x-python",
   "name": "python",
   "nbconvert_exporter": "python",
   "pygments_lexer": "ipython3",
   "version": "3.7.4"
  }
 },
 "nbformat": 4,
 "nbformat_minor": 2
}
